{
 "cells": [
  {
   "cell_type": "code",
   "execution_count": 1,
   "metadata": {
    "scrolled": true
   },
   "outputs": [],
   "source": [
    "from MSP import MSP\n",
    "from MSP import RepeatedTimer\n",
    "from serial import Serial\n",
    "import time"
   ]
  },
  {
   "cell_type": "code",
   "execution_count": 2,
   "metadata": {
    "scrolled": true
   },
   "outputs": [],
   "source": [
    "ser = Serial('/dev/tty.SLAB_USBtoUART', baudrate=115200 , timeout=0.1) #initialize serial connection\n",
    "copter = MSP(ser)"
   ]
  },
  {
   "cell_type": "code",
   "execution_count": 3,
   "metadata": {},
   "outputs": [],
   "source": [
    "copter.start_threaded_rc(10) # in Hertz (this sets the RC to a disarm position at a 10hz rate)"
   ]
  },
  {
   "cell_type": "code",
   "execution_count": 4,
   "metadata": {},
   "outputs": [],
   "source": [
    "copter.set_threaded_rc([1500,1500,1000,1500,1700,1000,1000,1000]) #arm (with this function you can change the values)\n",
    "#You need to set the ARM MODE switch to CH5 HIGH"
   ]
  },
  {
   "cell_type": "code",
   "execution_count": 5,
   "metadata": {},
   "outputs": [],
   "source": [
    "copter.set_threaded_rc([1500,1500,1000,1500,1200,1000,1000,1000]) #disarm"
   ]
  },
  {
   "cell_type": "code",
   "execution_count": 6,
   "metadata": {},
   "outputs": [],
   "source": [
    "copter.stop_threaded_rc() #here you can stop sending the RX input(will cause failsafe if copter is not disarmed)"
   ]
  },
  {
   "cell_type": "code",
   "execution_count": 7,
   "metadata": {},
   "outputs": [
    {
     "data": {
      "text/plain": [
       "{'roll': -4.9, 'pitch': 3.4, 'yaw': 350}"
      ]
     },
     "execution_count": 7,
     "metadata": {},
     "output_type": "execute_result"
    }
   ],
   "source": [
    "copter.get_attitude() #get copter attitude(roll, pitch, yaw)"
   ]
  },
  {
   "cell_type": "code",
   "execution_count": 8,
   "metadata": {},
   "outputs": [
    {
     "data": {
      "text/plain": [
       "{'fix_type': 0,\n",
       " 'sats': 0,\n",
       " 'lat': 0.0,\n",
       " 'lon': 0.0,\n",
       " 'alt': 0,\n",
       " 'groundSpeed': 0,\n",
       " 'groundCourse': 0,\n",
       " 'hdop': 0.0}"
      ]
     },
     "execution_count": 8,
     "metadata": {},
     "output_type": "execute_result"
    }
   ],
   "source": [
    "copter.get_raw_gps() #get copter GPS coordinates"
   ]
  },
  {
   "cell_type": "code",
   "execution_count": 11,
   "metadata": {},
   "outputs": [
    {
     "data": {
      "text/plain": [
       "{'number': 1,\n",
       " 'action': 1,\n",
       " 'lat': 0.0,\n",
       " 'lon': 0.0,\n",
       " 'alt': 5000,\n",
       " 'p1': 0,\n",
       " 'p2': 0,\n",
       " 'p3': 0,\n",
       " 'flags': 0}"
      ]
     },
     "execution_count": 11,
     "metadata": {},
     "output_type": "execute_result"
    }
   ],
   "source": [
    "copter.get_wp(1) #get waypoint (0 is home position , 255 is poshold)"
   ]
  },
  {
   "cell_type": "code",
   "execution_count": 10,
   "metadata": {},
   "outputs": [],
   "source": [
    "copter.set_wp(1,1,00.0000000,00.0000000,5000,0,0,0,0) #set the waypoint"
   ]
  },
  {
   "cell_type": "code",
   "execution_count": 13,
   "metadata": {},
   "outputs": [
    {
     "data": {
      "text/plain": [
       "{'accx': -31,\n",
       " 'accy': -43,\n",
       " 'accz': 507,\n",
       " 'gyrx': -1,\n",
       " 'gyry': 1,\n",
       " 'gyrz': 2,\n",
       " 'magx': 0,\n",
       " 'magy': 0,\n",
       " 'magz': 0}"
      ]
     },
     "execution_count": 13,
     "metadata": {},
     "output_type": "execute_result"
    }
   ],
   "source": [
    "copter.get_raw_imu() #get the raw imu data"
   ]
  },
  {
   "cell_type": "code",
   "execution_count": 17,
   "metadata": {},
   "outputs": [
    {
     "data": {
      "text/plain": [
       "{'cpu_load': 1013, 'arming_flags': 0, 'calibration_axis_flags': 3}"
      ]
     },
     "execution_count": 17,
     "metadata": {},
     "output_type": "execute_result"
    }
   ],
   "source": [
    "copter.get_status() #get cpu load, arming flags and calibration flags"
   ]
  },
  {
   "cell_type": "code",
   "execution_count": 18,
   "metadata": {},
   "outputs": [
    {
     "data": {
      "text/plain": [
       "{'battery_voltage': 0, 'mah_drawn': 0, 'rssi': 0, 'amp': 0}"
      ]
     },
     "execution_count": 18,
     "metadata": {},
     "output_type": "execute_result"
    }
   ],
   "source": [
    "copter.get_analog() # get vbat, mah drwan, rssi, and Amp draw"
   ]
  }
 ],
 "metadata": {
  "kernelspec": {
   "display_name": "Python 3",
   "language": "python",
   "name": "python3"
  },
  "language_info": {
   "codemirror_mode": {
    "name": "ipython",
    "version": 3
   },
   "file_extension": ".py",
   "mimetype": "text/x-python",
   "name": "python",
   "nbconvert_exporter": "python",
   "pygments_lexer": "ipython3",
   "version": "3.7.0"
  }
 },
 "nbformat": 4,
 "nbformat_minor": 2
}
