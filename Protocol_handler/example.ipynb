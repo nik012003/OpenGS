{
 "cells": [
  {
   "cell_type": "code",
   "execution_count": 1,
   "metadata": {
    "scrolled": true
   },
   "outputs": [],
   "source": [
    "from MSP import MSP\n",
    "from serial import Serial"
   ]
  },
  {
   "cell_type": "code",
   "execution_count": 2,
   "metadata": {
    "scrolled": true
   },
   "outputs": [],
   "source": [
    "ser = Serial('/dev/tty.SLAB_USBtoUART', baudrate=115200 , timeout=0.1) #initialize serial connection\n",
    "copter = MSP(ser)"
   ]
  },
  {
   "cell_type": "code",
   "execution_count": 3,
   "metadata": {},
   "outputs": [
    {
     "data": {
      "text/plain": [
       "{'roll': -10.4, 'pitch': 0.0, 'yaw': 338}"
      ]
     },
     "execution_count": 3,
     "metadata": {},
     "output_type": "execute_result"
    }
   ],
   "source": [
    "copter.get_attitude() #get copter attitude(roll, pitch, yaw)"
   ]
  },
  {
   "cell_type": "code",
   "execution_count": 4,
   "metadata": {},
   "outputs": [
    {
     "data": {
      "text/plain": [
       "{'fix_type': 0,\n",
       " 'sats': 0,\n",
       " 'lat': 0.0,\n",
       " 'lon': 0.0,\n",
       " 'alt': 0,\n",
       " 'groundSpeed': 0,\n",
       " 'groundCourse': 0,\n",
       " 'hdop': 0.0}"
      ]
     },
     "execution_count": 4,
     "metadata": {},
     "output_type": "execute_result"
    }
   ],
   "source": [
    "copter.get_raw_gps()"
   ]
  },
  {
   "cell_type": "code",
   "execution_count": 9,
   "metadata": {},
   "outputs": [
    {
     "data": {
      "text/plain": [
       "{'roll': 1001,\n",
       " 'pitch': 1002,\n",
       " 'throttle': 1004,\n",
       " 'yaw': 1003,\n",
       " 'aux1': 1005,\n",
       " 'aux2': 1006,\n",
       " 'aux3': 1007,\n",
       " 'aux4': 1008,\n",
       " 'aux5': 1009,\n",
       " 'aux6': 1010,\n",
       " 'aux7': 1011,\n",
       " 'aux8': 1012,\n",
       " 'aux9': 1013,\n",
       " 'aux10': 1014,\n",
       " 'aux11': 1015,\n",
       " 'aux12': 1017,\n",
       " 'aux13': 1018}"
      ]
     },
     "execution_count": 9,
     "metadata": {},
     "output_type": "execute_result"
    }
   ],
   "source": [
    "copter.set_raw_rc([1001,1002,1003,1004,1005,1006,1007,1008,1009,1010,1011,1012,1013,1014,1015,1016,1017,1018])\n",
    "copter.get_rc()"
   ]
  },
  {
   "cell_type": "code",
   "execution_count": 6,
   "metadata": {},
   "outputs": [
    {
     "data": {
      "text/plain": [
       "{'number': 2,\n",
       " 'action': 1,\n",
       " 'lat': 41.5090774,\n",
       " 'lon': 15.324028,\n",
       " 'alt': 5000,\n",
       " 'p1': 0,\n",
       " 'p2': 0,\n",
       " 'p3': 0,\n",
       " 'flags': 0}"
      ]
     },
     "execution_count": 6,
     "metadata": {},
     "output_type": "execute_result"
    }
   ],
   "source": [
    "copter.get_wp(2)"
   ]
  },
  {
   "cell_type": "code",
   "execution_count": 7,
   "metadata": {},
   "outputs": [],
   "source": [
    "copter.set_wp(10,1,415091115,153238268,0,0,0,0,0) #TODO: feagure out why it doesn't work"
   ]
  },
  {
   "cell_type": "code",
   "execution_count": 8,
   "metadata": {},
   "outputs": [
    {
     "data": {
      "text/plain": [
       "{'accx': 0,\n",
       " 'accy': -94,\n",
       " 'accz': 505,\n",
       " 'gyrx': -1,\n",
       " 'gyry': -2,\n",
       " 'gyrz': -1,\n",
       " 'magx': 0,\n",
       " 'magy': 0,\n",
       " 'magz': 0}"
      ]
     },
     "execution_count": 8,
     "metadata": {},
     "output_type": "execute_result"
    }
   ],
   "source": [
    "copter.get_raw_imu()"
   ]
  }
 ],
 "metadata": {
  "kernelspec": {
   "display_name": "Python 3",
   "language": "python",
   "name": "python3"
  },
  "language_info": {
   "codemirror_mode": {
    "name": "ipython",
    "version": 3
   },
   "file_extension": ".py",
   "mimetype": "text/x-python",
   "name": "python",
   "nbconvert_exporter": "python",
   "pygments_lexer": "ipython3",
   "version": "3.7.0"
  }
 },
 "nbformat": 4,
 "nbformat_minor": 2
}
