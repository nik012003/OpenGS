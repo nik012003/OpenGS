{
 "cells": [
  {
   "cell_type": "code",
   "execution_count": 1,
   "metadata": {
    "scrolled": true
   },
   "outputs": [],
   "source": [
    "from MSP import MSP\n",
    "from MSP import RepeatedTimer\n",
    "from serial import Serial\n",
    "import time"
   ]
  },
  {
   "cell_type": "code",
   "execution_count": 2,
   "metadata": {
    "scrolled": true
   },
   "outputs": [],
   "source": [
    "ser = Serial('/dev/ttyACM0', baudrate=115200 , timeout=0.1) #initialize serial connection\n",
    "copter = MSP(ser)"
   ]
  },
  {
   "cell_type": "code",
   "execution_count": 4,
   "metadata": {},
   "outputs": [],
   "source": [
    "copter.start_threaded_rc(10) # in Hertz (this sets the RC to a disarm position at a 10hz rate)"
   ]
  },
  {
   "cell_type": "code",
   "execution_count": 5,
   "metadata": {},
   "outputs": [],
   "source": [
    "copter.set_threaded_rc([1500,1500,1000,1500,1700,1000,1000,1000]) #arm (with this function you can change the values)\n",
    "#You need to set the ARM MODE switch to CH5 HIGH"
   ]
  },
  {
   "cell_type": "code",
   "execution_count": 6,
   "metadata": {},
   "outputs": [],
   "source": [
    "copter.set_threaded_rc([1500,1500,1000,1500,1200,1000,1000,1000]) #disarm"
   ]
  },
  {
   "cell_type": "code",
   "execution_count": 7,
   "metadata": {},
   "outputs": [],
   "source": [
    "copter.stop_threaded_rc() #here you can stop sending the RX input(will cause failsafe if copter is not disarmed)"
   ]
  },
  {
   "cell_type": "code",
   "execution_count": 8,
   "metadata": {
    "scrolled": true
   },
   "outputs": [
    {
     "data": {
      "text/plain": [
       "{'pitch': -75.4, 'roll': 101.9, 'yaw': 87}"
      ]
     },
     "execution_count": 8,
     "metadata": {},
     "output_type": "execute_result"
    }
   ],
   "source": [
    "copter.get_attitude() #get copter attitude(roll, pitch, yaw)"
   ]
  },
  {
   "cell_type": "code",
   "execution_count": 3,
   "metadata": {
    "scrolled": false
   },
   "outputs": [
    {
     "data": {
      "text/plain": [
       "{'alt': 0,\n",
       " 'fix_type': 0,\n",
       " 'groundCourse': 0,\n",
       " 'groundSpeed': 0,\n",
       " 'hdop': 0.0,\n",
       " 'lat': 0.0,\n",
       " 'lon': 0.0,\n",
       " 'sats': 0}"
      ]
     },
     "execution_count": 3,
     "metadata": {},
     "output_type": "execute_result"
    }
   ],
   "source": [
    "copter.get_raw_gps() #get copter GPS coordinates"
   ]
  },
  {
   "cell_type": "code",
   "execution_count": 11,
   "metadata": {
    "scrolled": true
   },
   "outputs": [
    {
     "data": {
      "text/plain": [
       "{'number': 1,\n",
       " 'action': 1,\n",
       " 'lat': 0.0,\n",
       " 'lon': 0.0,\n",
       " 'alt': 5000,\n",
       " 'p1': 0,\n",
       " 'p2': 0,\n",
       " 'p3': 0,\n",
       " 'flags': 0}"
      ]
     },
     "execution_count": 11,
     "metadata": {},
     "output_type": "execute_result"
    }
   ],
   "source": [
    "copter.get_wp(1) #get waypoint (0 is home position , 255 is poshold)"
   ]
  },
  {
   "cell_type": "code",
   "execution_count": 10,
   "metadata": {},
   "outputs": [],
   "source": [
    "copter.set_wp(1,1,00.0000000,00.0000000,5000,0,0,0,0) #set the waypoint"
   ]
  },
  {
   "cell_type": "code",
   "execution_count": 5,
   "metadata": {
    "scrolled": true
   },
   "outputs": [
    {
     "data": {
      "text/plain": [
       "{'accx': 514,\n",
       " 'accy': 104,\n",
       " 'accz': -5,\n",
       " 'gyrx': 34,\n",
       " 'gyry': -391,\n",
       " 'gyrz': 188,\n",
       " 'magx': 0,\n",
       " 'magy': 0,\n",
       " 'magz': 0}"
      ]
     },
     "execution_count": 5,
     "metadata": {},
     "output_type": "execute_result"
    }
   ],
   "source": [
    "copter.get_raw_imu() #get the raw imu data"
   ]
  },
  {
   "cell_type": "code",
   "execution_count": 17,
   "metadata": {},
   "outputs": [
    {
     "data": {
      "text/plain": [
       "{'cpu_load': 1013, 'arming_flags': 0, 'calibration_axis_flags': 3}"
      ]
     },
     "execution_count": 17,
     "metadata": {},
     "output_type": "execute_result"
    }
   ],
   "source": [
    "copter.get_status() #get cpu load, arming flags and calibration flags"
   ]
  },
  {
   "cell_type": "code",
   "execution_count": 6,
   "metadata": {
    "scrolled": true
   },
   "outputs": [
    {
     "data": {
      "text/plain": [
       "{'amp': 0, 'battery_voltage': 0, 'mah_drawn': 0, 'rssi': 0}"
      ]
     },
     "execution_count": 6,
     "metadata": {},
     "output_type": "execute_result"
    }
   ],
   "source": [
    "copter.get_analog() # get vbat, mah drwan, rssi, and Amp draw"
   ]
  },
  {
   "cell_type": "code",
   "execution_count": 4,
   "metadata": {
    "scrolled": true
   },
   "outputs": [
    {
     "data": {
      "text/plain": [
       "['yaw', 'pitch', 'throttle', 'roll']"
      ]
     },
     "execution_count": 4,
     "metadata": {},
     "output_type": "execute_result"
    }
   ],
   "source": [
    "copter.get_channel_map()"
   ]
  },
  {
   "cell_type": "code",
   "execution_count": 5,
   "metadata": {},
   "outputs": [],
   "source": [
    "copter.set_raw_rc([1000,1001,1002,1003])"
   ]
  },
  {
   "cell_type": "code",
   "execution_count": 11,
   "metadata": {
    "scrolled": true
   },
   "outputs": [
    {
     "data": {
      "text/plain": [
       "{'aux1': 0,\n",
       " 'aux10': 0,\n",
       " 'aux11': 0,\n",
       " 'aux12': 0,\n",
       " 'aux13': 0,\n",
       " 'aux2': 0,\n",
       " 'aux3': 0,\n",
       " 'aux4': 0,\n",
       " 'aux5': 0,\n",
       " 'aux6': 0,\n",
       " 'aux7': 0,\n",
       " 'aux8': 0,\n",
       " 'aux9': 0,\n",
       " 'pitch': 1000,\n",
       " 'roll': 1002,\n",
       " 'throttle': 1003,\n",
       " 'yaw': 1001}"
      ]
     },
     "execution_count": 11,
     "metadata": {},
     "output_type": "execute_result"
    }
   ],
   "source": [
    "copter.get_rc(copter.get_channel_map())"
   ]
  }
 ],
 "metadata": {
  "kernelspec": {
   "display_name": "Python 3",
   "language": "python",
   "name": "python3"
  },
  "language_info": {
   "codemirror_mode": {
    "name": "ipython",
    "version": 3
   },
   "file_extension": ".py",
   "mimetype": "text/x-python",
   "name": "python",
   "nbconvert_exporter": "python",
   "pygments_lexer": "ipython3",
   "version": "3.5.2"
  }
 },
 "nbformat": 4,
 "nbformat_minor": 2
}
