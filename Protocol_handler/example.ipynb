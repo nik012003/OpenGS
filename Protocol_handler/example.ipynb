{
 "cells": [
  {
   "cell_type": "code",
   "execution_count": 1,
   "metadata": {
    "scrolled": true
   },
   "outputs": [],
   "source": [
    "from MSP import MSP\n",
    "from MSP import RepeatedTimer\n",
    "from serial import Serial\n",
    "import time"
   ]
  },
  {
   "cell_type": "code",
   "execution_count": 2,
   "metadata": {
    "scrolled": true
   },
   "outputs": [],
   "source": [
    "ser = Serial('/dev/tty.SLAB_USBtoUART', baudrate=115200 , timeout=0.1) #initialize serial connection\n",
    "copter = MSP(ser)"
   ]
  },
  {
   "cell_type": "code",
   "execution_count": 3,
   "metadata": {},
   "outputs": [],
   "source": [
    "copter.start_threaded_rc(10) # in Hertz (this sets the RC to a disarm position at a 10hz rate)"
   ]
  },
  {
   "cell_type": "code",
   "execution_count": 4,
   "metadata": {},
   "outputs": [],
   "source": [
    "copter.set_threaded_rc([1500,1500,1000,1500,1700,1000,1000,1000]) #arm (with this function you can change the values)\n",
    "#You need to set the ARM MODE switch to CH5 HIGH"
   ]
  },
  {
   "cell_type": "code",
   "execution_count": 5,
   "metadata": {},
   "outputs": [],
   "source": [
    "copter.set_threaded_rc([1500,1500,1000,1500,1200,1000,1000,1000]) #disarm"
   ]
  },
  {
   "cell_type": "code",
   "execution_count": 6,
   "metadata": {},
   "outputs": [],
   "source": [
    "copter.stop_threaded_rc() #here you can stop sending the RX input(will cause failsafe if copter is not disarmed)"
   ]
  },
  {
   "cell_type": "code",
   "execution_count": 3,
   "metadata": {},
   "outputs": [
    {
     "data": {
      "text/plain": [
       "{'roll': -11.3, 'pitch': -3.1, 'yaw': 359}"
      ]
     },
     "execution_count": 3,
     "metadata": {},
     "output_type": "execute_result"
    }
   ],
   "source": [
    "copter.get_attitude() #get copter attitude(roll, pitch, yaw)"
   ]
  },
  {
   "cell_type": "code",
   "execution_count": 7,
   "metadata": {},
   "outputs": [
    {
     "data": {
      "text/plain": [
       "{'fix_type': 0,\n",
       " 'sats': 0,\n",
       " 'lat': 0.0,\n",
       " 'lon': 0.0,\n",
       " 'alt': 0,\n",
       " 'groundSpeed': 0,\n",
       " 'groundCourse': 0,\n",
       " 'hdop': 0.0}"
      ]
     },
     "execution_count": 7,
     "metadata": {},
     "output_type": "execute_result"
    }
   ],
   "source": [
    "copter.get_raw_gps() #get copter GPS coordinates"
   ]
  },
  {
   "cell_type": "code",
   "execution_count": 8,
   "metadata": {},
   "outputs": [
    {
     "data": {
      "text/plain": [
       "{'number': 1,\n",
       " 'action': 1,\n",
       " 'lat': 0.0,\n",
       " 'lon': 0.0,\n",
       " 'alt': 5000,\n",
       " 'p1': 0,\n",
       " 'p2': 0,\n",
       " 'p3': 0,\n",
       " 'flags': 0}"
      ]
     },
     "execution_count": 8,
     "metadata": {},
     "output_type": "execute_result"
    }
   ],
   "source": [
    "copter.get_wp(1) #get waypoint (0 is home position , 255 is poshold)"
   ]
  },
  {
   "cell_type": "code",
   "execution_count": 7,
   "metadata": {},
   "outputs": [],
   "source": [
    "copter.set_wp(1,1,00.0000000,00.0000000,5000,0,0,0,0) #set the waypoint"
   ]
  },
  {
   "cell_type": "code",
   "execution_count": 27,
   "metadata": {},
   "outputs": [
    {
     "data": {
      "text/plain": [
       "{'accx': 0,\n",
       " 'accy': -46,\n",
       " 'accz': 513,\n",
       " 'gyrx': 0,\n",
       " 'gyry': 11,\n",
       " 'gyrz': 4,\n",
       " 'magx': 0,\n",
       " 'magy': 0,\n",
       " 'magz': 0}"
      ]
     },
     "execution_count": 27,
     "metadata": {},
     "output_type": "execute_result"
    }
   ],
   "source": [
    "copter.get_raw_imu() #get the raw imu data"
   ]
  },
  {
   "cell_type": "code",
   "execution_count": 9,
   "metadata": {},
   "outputs": [
    {
     "data": {
      "text/plain": [
       "{'cpu_load': 1011, 'arming_flags': 0, 'calibration_axis_flags': 3}"
      ]
     },
     "execution_count": 9,
     "metadata": {},
     "output_type": "execute_result"
    }
   ],
   "source": [
    "copter.get_status() #get cpu load, arming flags and calibration flags"
   ]
  }
 ],
 "metadata": {
  "kernelspec": {
   "display_name": "Python 3",
   "language": "python",
   "name": "python3"
  },
  "language_info": {
   "codemirror_mode": {
    "name": "ipython",
    "version": 3
   },
   "file_extension": ".py",
   "mimetype": "text/x-python",
   "name": "python",
   "nbconvert_exporter": "python",
   "pygments_lexer": "ipython3",
   "version": "3.7.0"
  }
 },
 "nbformat": 4,
 "nbformat_minor": 2
}
