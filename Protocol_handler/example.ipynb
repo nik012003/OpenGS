{
 "cells": [
  {
   "cell_type": "code",
   "execution_count": 16,
   "metadata": {
    "scrolled": true
   },
   "outputs": [],
   "source": [
    "from MSP import MSP\n",
    "from serial import Serial"
   ]
  },
  {
   "cell_type": "code",
   "execution_count": 17,
   "metadata": {
    "scrolled": true
   },
   "outputs": [],
   "source": [
    "ser = Serial('/dev/tty.usbmodem0x8000000', baudrate=115200 , timeout=0.1) #initialize serial connection\n",
    "copter = MSP(ser)"
   ]
  },
  {
   "cell_type": "code",
   "execution_count": 19,
   "metadata": {},
   "outputs": [
    {
     "name": "stdout",
     "output_type": "stream",
     "text": [
      "{'roll': -0.5, 'pitch': -0.3, 'yaw': 176}\n"
     ]
    }
   ],
   "source": [
    "copter.get_attitude() #get copter attitude(roll, pitch, yaw)"
   ]
  },
  {
   "cell_type": "code",
   "execution_count": 20,
   "metadata": {},
   "outputs": [
    {
     "data": {
      "text/plain": [
       "{'fix_type': 2,\n",
       " 'sats': 6,\n",
       " 'lat': 00.0000000,\n",
       " 'lon': 00.0000000,\n",
       " 'alt': 266,\n",
       " 'groundSpeed': 63,\n",
       " 'groundCourse': 3006,\n",
       " 'hdop': 3.88}"
      ]
     },
     "execution_count": 20,
     "metadata": {},
     "output_type": "execute_result"
    }
   ],
   "source": [
    "copter.get_gps()"
   ]
  },
  {
   "cell_type": "code",
   "execution_count": null,
   "metadata": {},
   "outputs": [],
   "source": []
  }
 ],
 "metadata": {
  "kernelspec": {
   "display_name": "Python 3",
   "language": "python",
   "name": "python3"
  },
  "language_info": {
   "codemirror_mode": {
    "name": "ipython",
    "version": 3
   },
   "file_extension": ".py",
   "mimetype": "text/x-python",
   "name": "python",
   "nbconvert_exporter": "python",
   "pygments_lexer": "ipython3",
   "version": "3.7.0"
  }
 },
 "nbformat": 4,
 "nbformat_minor": 2
}
